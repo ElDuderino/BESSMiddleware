{
 "cells": [
  {
   "attachments": {
    "image.png": {
     "image/png": "[encoded data removed]"
    }
   },
   "cell_type": "markdown",
   "metadata": {},
   "source": [
    "# Basic Power Consumption / Capacity Analysis #\n",
    "\n",
    "We want to estimate the total power input / output from the battery over time. This allows us to:\n",
    "\n",
    "1. Compute the cost of power usage over a time span (negative or positve)\n",
    "2. Estimate the battery capacity (Ah / KWh)\n",
    "\n",
    "Computing the capacity should be:\n",
    "\n",
    "![image.png](attachment:image.png)\n",
    "\n",
    "Realistically, this will be the Riemann Sum approximation and we should use the trapezoidal rule over dt for best approximation. \n",
    "\n"
   ]
  },
  {
   "attachments": {},
   "cell_type": "markdown",
   "metadata": {},
   "source": []
  },
  {
   "cell_type": "markdown",
   "source": [],
   "metadata": {
    "collapsed": false
   }
  }
 ],
 "metadata": {
  "language_info": {
   "name": "python"
  },
  "orig_nbformat": 4
 },
 "nbformat": 4,
 "nbformat_minor": 2
}
